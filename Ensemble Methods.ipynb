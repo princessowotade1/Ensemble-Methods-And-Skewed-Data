{
 "cells": [
  {
   "cell_type": "markdown",
   "metadata": {},
   "source": [
    "# Ensemble Methods and Skewed Data\n",
    "\n",
    "For this project I am going to use two ensemble methods:\n",
    "\n",
    "  - AdaBoost\n",
    "  - Random Forests\n",
    "  \n",
    "Along with applying different KPIs (key performance indicators) that are more appropriate to highly skewed data sets. \n",
    "\n",
    "The dataset contains transactions made by credit cards in September 2013 by european cardholders.\n",
    "This dataset presents transactions that occurred in two days, where we have 237 frauds out of 142,167 transactions. The dataset is highly unbalanced, the positive class (frauds) account for 0.17% of all transactions.\n",
    "\n",
    "It contains only numerical input variables which are the result of a [PCA transformation](https://en.wikipedia.org/wiki/Principal_component_analysis). Unfortunately, due to confidentiality issues, I cannot provide the original features and more background information about the data. Features V1, V2, … V28 are the principal components obtained with PCA, the only features which have not been transformed with PCA are 'Time' and 'Amount'. Feature 'Time' contains the seconds elapsed between each transaction and the first transaction in the dataset. The feature 'Amount' is the transaction Amount in Euros. Feature 'Class' is the response variable and it takes value 1 in case of fraud and 0 otherwise.\n",
    " "
   ]
  },
  {
   "cell_type": "code",
   "execution_count": 1,
   "metadata": {},
   "outputs": [],
   "source": [
    "# These are the libraries I will use for this project\n",
    "import pandas as pd\n",
    "import numpy as np\n",
    "import matplotlib.pyplot as plt\n",
    "%matplotlib inline\n",
    "from sklearn.ensemble import AdaBoostClassifier\n",
    "from sklearn.ensemble import RandomForestClassifier\n",
    "from sklearn.model_selection import StratifiedKFold\n",
    "from sklearn.metrics import plot_roc_curve\n",
    "\n",
    "# This is the credit card data I used. I'll use sklearn methods to do cross validation\n",
    "# to estimate error\n",
    "df_cc = pd.read_csv('cc.csv')"
   ]
  },
  {
   "cell_type": "markdown",
   "metadata": {},
   "source": [
    "## Parition the data for cross validation\n",
    "\n",
    "I will load the data, and split the data set into $X$ (the feature dataframe, `df_X`) and $y$ (the target series `s_y`). \n",
    "\n",
    " I will use $k=3$ and instantiate an instance of the `StratifiedKFold` class, and use the generator `split` to populate the test and train dictonaries:\n",
    "   - `d_train_df_X` : key is the fold number, value is the attribute training dataframe at that fold\n",
    "   - `d_test_df_X`  : key is the fold number, value is the attribute test dataframe at that fold\n",
    "   - `d_train_s_y`  : key is the fold number, value is the target training series at that fold\n",
    "   - `d_train_s_y`  : key is the fold number, value is the target test series at that fold"
   ]
  },
  {
   "cell_type": "code",
   "execution_count": 2,
   "metadata": {},
   "outputs": [],
   "source": [
    "df_X = df_cc.drop(columns=['Class'])\n",
    "s_y = df_cc['Class']"
   ]
  },
  {
   "cell_type": "code",
   "execution_count": 3,
   "metadata": {},
   "outputs": [],
   "source": [
    "skf = StratifiedKFold(n_splits=3,shuffle=True,random_state=23)"
   ]
  },
  {
   "cell_type": "code",
   "execution_count": 4,
   "metadata": {},
   "outputs": [],
   "source": [
    "d_train_df_X = dict()\n",
    "d_test_df_X = dict()\n",
    "d_train_s_y = dict()\n",
    "d_test_s_y = dict()\n",
    "\n",
    "k = 1\n",
    "\n",
    "for train_index,test_index in skf.split(df_X,s_y):\n",
    "    d_train_df_X[k] = df_X.iloc[train_index]\n",
    "    d_test_df_X[k] = df_X.iloc[test_index]\n",
    "    d_train_s_y[k] = s_y.iloc[train_index]\n",
    "    d_test_s_y[k] = s_y.iloc[test_index]\n",
    "    k+=1"
   ]
  },
  {
   "cell_type": "code",
   "execution_count": 5,
   "metadata": {
    "scrolled": true
   },
   "outputs": [
    {
     "name": "stdout",
     "output_type": "stream",
     "text": [
      "0    47389\n",
      "1       79\n",
      "Name: Class, dtype: int64\n",
      "0    47389\n",
      "1       79\n",
      "Name: Class, dtype: int64\n",
      "0    47389\n",
      "1       79\n",
      "Name: Class, dtype: int64\n"
     ]
    }
   ],
   "source": [
    "# Verifying that the target training is equally distributed as possible\n",
    "for key in d_test_s_y.keys():\n",
    "    print(d_test_s_y[key].value_counts())\n"
   ]
  },
  {
   "cell_type": "markdown",
   "metadata": {},
   "source": [
    "## Section 1 - AdaBoost"
   ]
  },
  {
   "cell_type": "markdown",
   "metadata": {},
   "source": [
    "## Test the Performance of AdaBoost\n",
    "\n",
    "In this assignment, I will use the implementation of [AdaBoost in Scikit-learn](https://scikit-learn.org/stable/modules/generated/sklearn.ensemble.AdaBoostClassifier.html). \n",
    "\n",
    "After I fit an AdaBoost model, I will call the method `predict` to get a class prediction. These probabilities are used when creating ROC curves. \n",
    "\n",
    "I will loop over the $k$ folds using the dictionaries from the first problem, and for each fold calculate the accuracy, TPR, the PPV, and the FPR.  I will plot the ROC curve for each fold. \n",
    "\n",
    "When creating your AdaBoost classifier, I will use the following parameters: \n",
    "`AdaBoostClassifier(n_estimators=25, random_state=23)`\n",
    "\n",
    "I will save the predictions from the 3rd fold into a variable called `y_hat_ab` for use in a future section.\n"
   ]
  },
  {
   "cell_type": "code",
   "execution_count": 6,
   "metadata": {},
   "outputs": [],
   "source": [
    "k = 3\n",
    "acc_ab = np.zeros(k)\n",
    "tpr_ab = np.zeros(k)\n",
    "ppv_ab = np.zeros(k)\n",
    "fpr_ab = np.zeros(k)"
   ]
  },
  {
   "cell_type": "code",
   "execution_count": 7,
   "metadata": {},
   "outputs": [
    {
     "data": {
      "image/png": "[encoded data removed]",
      "text/plain": [
       "<Figure size 432x288 with 1 Axes>"
      ]
     },
     "metadata": {
      "needs_background": "light"
     },
     "output_type": "display_data"
    }
   ],
   "source": [
    "clf = AdaBoostClassifier(n_estimators=25, random_state=23)\n",
    "n = 0\n",
    "fig, ax = plt.subplots()\n",
    "for i in range(1,k+1):\n",
    "    \n",
    "    clf.fit(d_train_df_X[i],d_train_s_y[i])\n",
    "    exp = clf.predict(d_test_df_X[i])\n",
    "    \n",
    "    if i == 3:\n",
    "        y_hat_ab = exp\n",
    "    \n",
    "        \n",
    "    true_idx = d_test_s_y[i] == 1\n",
    "    false_idx = d_test_s_y[i] == 0\n",
    "    p_true_idx = exp == 1\n",
    "    \n",
    "    P = true_idx.sum()\n",
    "    N = false_idx.sum()\n",
    "    TP_p_FP = p_true_idx.sum()\n",
    "    \n",
    "    TP = ( exp[true_idx] == d_test_s_y[i][true_idx] ).sum()\n",
    "    FP = TP_p_FP - TP\n",
    "    TN = N - FP\n",
    "    \n",
    "    np.put(acc_ab,[n],(TP+TN)/len(exp))\n",
    "    np.put(fpr_ab,[n],FP/N)\n",
    "    np.put(ppv_ab,[n],TP/TP_p_FP)\n",
    "    np.put(tpr_ab,[n],TP/P)\n",
    "    \n",
    "    n+=1\n",
    "    \n",
    "    plot_roc_curve(clf,d_test_df_X[i], d_test_s_y[i], name = 'ROC Fold {}'.format(i),alpha = 0.3, lw=2, ax=ax)\n",
    "    plt.ylabel('True Positive Rate')\n",
    "    plt.xlabel('False Positive Rate')\n",
    "    plt.title('ROC Curve')\n",
    "plt.show()\n",
    "    \n",
    "    "
   ]
  },
  {
   "cell_type": "code",
   "execution_count": 8,
   "metadata": {},
   "outputs": [
    {
     "name": "stdout",
     "output_type": "stream",
     "text": [
      "The min, mean, and max TPR are: 0.62, 0.65, and 0.71\n",
      "The min, mean, and max PPV are: 0.75, 0.79, and 0.82\n",
      "The min, mean, and max ACC are: 1.00, 1.00, and 1.00\n"
     ]
    }
   ],
   "source": [
    "print('The min, mean, and max TPR are: {:.2f}, {:.2f}, and {:.2f}'.format(tpr_ab.min(), tpr_ab.mean(), tpr_ab.max()))\n",
    "print('The min, mean, and max PPV are: {:.2f}, {:.2f}, and {:.2f}'.format(ppv_ab.min(), ppv_ab.mean(), ppv_ab.max()))\n",
    "print('The min, mean, and max ACC are: {:.2f}, {:.2f}, and {:.2f}'.format(acc_ab.min(), acc_ab.mean(), acc_ab.max()))"
   ]
  },
  {
   "cell_type": "markdown",
   "metadata": {},
   "source": [
    "## Test the Performance of Random Forests\n",
    "\n",
    "Now, I'll try another ensemble method: Random Forests, again using the [Scikit-learn implementation](https://scikit-learn.org/stable/modules/generated/sklearn.ensemble.RandomForestClassifier.html). \n",
    "\n",
    "After I fit an RandomForest model, I can call the method `predict` to get a class prediction. These probabilities are used when creating ROC curves. \n",
    "\n",
    "I will loop over the $k$ folds using the dictionaries from the first problem, and for each fold calculate the accuracy, TPR, the PPV, and the FPR.  I will plot the ROC curve for each fold. \n",
    "\n",
    "When creating my Random Forest classifier, I will use the following parameters: \n",
    "`RandomForestClassifier(criterion=\"entropy\", max_features=\"sqrt\", random_state=23)`\n",
    "\n",
    "I will save the predictions from the 3rd fold into a variable called `y_hat_rf` for use in a future section."
   ]
  },
  {
   "cell_type": "code",
   "execution_count": 9,
   "metadata": {},
   "outputs": [],
   "source": [
    "k = 3\n",
    "acc_rf = np.zeros(k)\n",
    "tpr_rf = np.zeros(k)\n",
    "ppv_rf = np.zeros(k)\n",
    "fpr_rf = np.zeros(k)"
   ]
  },
  {
   "cell_type": "code",
   "execution_count": 10,
   "metadata": {},
   "outputs": [
    {
     "data": {
      "image/png": "[encoded data removed]",
      "text/plain": [
       "<Figure size 432x288 with 1 Axes>"
      ]
     },
     "metadata": {
      "needs_background": "light"
     },
     "output_type": "display_data"
    }
   ],
   "source": [
    "rfc = RandomForestClassifier(criterion='entropy', max_features='sqrt', random_state=23)\n",
    "r = 0\n",
    "fig, ax = plt.subplots()\n",
    "for j in range(1,k+1):\n",
    "    \n",
    "    rfc.fit(d_train_df_X[j],d_train_s_y[j])\n",
    "    rexp = rfc.predict(d_test_df_X[j])\n",
    "    \n",
    "    if i == 3:\n",
    "        y_hat_rf = rexp\n",
    "        \n",
    "    rtrue_idx = d_test_s_y[j] == 1\n",
    "    rfalse_idx = d_test_s_y[j] == 0\n",
    "    rp_true_idx = rexp == 1\n",
    "    \n",
    "    rP = rtrue_idx.sum()\n",
    "    rN = rfalse_idx.sum()\n",
    "    rTP_p_FP = rp_true_idx.sum()\n",
    "    \n",
    "    rTP = ( rexp[rtrue_idx] == d_test_s_y[j][rtrue_idx] ).sum()\n",
    "    rFP = rTP_p_FP - rTP\n",
    "    rTN = rN - rFP\n",
    "    \n",
    "    np.put(acc_rf,[r],(rTP+rTN)/len(rexp))\n",
    "    np.put(fpr_rf,[r],rFP/rN)\n",
    "    np.put(ppv_rf,[r],rTP/rTP_p_FP)\n",
    "    np.put(tpr_rf,[r],rTP/rP)\n",
    "    \n",
    "    r += 1\n",
    "    plot_roc_curve(rfc,d_test_df_X[j], d_test_s_y[j], name = 'ROC Fold {}'.format(j),alpha = 0.3, lw=2, ax=ax)\n",
    "\n",
    "plt.show()\n",
    "    \n",
    "    \n",
    "    \n",
    "        "
   ]
  },
  {
   "cell_type": "code",
   "execution_count": 11,
   "metadata": {},
   "outputs": [
    {
     "name": "stdout",
     "output_type": "stream",
     "text": [
      "The min, mean, and max TPR are: 0.75, 0.78, and 0.80\n",
      "The min, mean, and max PPV are: 0.92, 0.93, and 0.95\n",
      "The min, mean, and max ACC are: 1.00, 1.00, and 1.00\n"
     ]
    }
   ],
   "source": [
    "print('The min, mean, and max TPR are: {:.2f}, {:.2f}, and {:.2f}'.format(tpr_rf.min(), tpr_rf.mean(), tpr_rf.max()))\n",
    "print('The min, mean, and max PPV are: {:.2f}, {:.2f}, and {:.2f}'.format(ppv_rf.min(), ppv_rf.mean(), ppv_rf.max()))\n",
    "print('The min, mean, and max ACC are: {:.2f}, {:.2f}, and {:.2f}'.format(acc_rf.min(), acc_rf.mean(), acc_rf.max()))"
   ]
  },
  {
   "cell_type": "markdown",
   "metadata": {},
   "source": [
    "# Calculate the Cost of Fraud \n",
    "\n",
    "In the above problems, I saved the predictions of the 3rd fold into the variables `y_hat_ab` and `y_hat_rf` for the AdaBoost and RandomForest models respectively. \n",
    "\n",
    "Now, imagine that the bank wants me to tell them how much money they are going to save if they deploy either of these fraud algorithms to the real-time payment processing system. Let's assume that there is not a currently deployed fraud detection algorithm.  \n",
    "\n",
    "For every fraudulent transaction that is not predicted as fraudulent the bank looses twice that much money.  So, a fradulent charge for €10 is undectected, it costs the bank €20.  Also, if a charge is predicted as fradulent, but wasn't, it costs the bank a flat fee of €3 in customer service support to communicate with the customer, and mark the possible fraud as a normal transaction. \n",
    "\n",
    "By using the 3rd fold test sample, I will calculate how much moneythe bank will save with each algorithm, and make a recommendation of which algorithm to deploy to production."
   ]
  },
  {
   "cell_type": "code",
   "execution_count": 12,
   "metadata": {},
   "outputs": [
    {
     "name": "stdout",
     "output_type": "stream",
     "text": [
      "Not having an algorithm in place costs the bank: €22484.74.\n",
      "Using the Random Forest algorithm saves the bank: €18121.36.\n",
      "Using the AdaBoost algorithm saves the bank: €13946.42.\n"
     ]
    }
   ],
   "source": [
    "df_amount = d_test_df_X[3]\n",
    "\n",
    "total_ab = 0\n",
    "total_rf = 0\n",
    "s_y_list = d_test_s_y[3].tolist()\n",
    "test = d_test_s_y[3]\n",
    "\n",
    "none = 2*df_amount.loc[test[test== 1].index]['Amount'].sum()\n",
    "                       \n",
    "for j in range(len(test)):\n",
    "    \n",
    "    if y_hat_ab[j] == 0 and test.iloc[j] == 1: \n",
    "        total_ab += (2*df_amount.iloc[j]['Amount'])\n",
    "        \n",
    "    if y_hat_rf[j] == 0 and test.iloc[j] == 1:\n",
    "        total_rf += (2*df_amount.iloc[j]['Amount'])\n",
    "        \n",
    "    if y_hat_ab[j] == 1 and test.iloc[j] == 0:\n",
    "        total_ab += 3\n",
    "        \n",
    "    if y_hat_rf[j] == 1 and test.iloc[j] == 0:\n",
    "        total_rf += 3\n",
    "            \n",
    "\n",
    "\n",
    "print('Not having an algorithm in place costs the bank: €{:.2f}.'.format(none))\n",
    "print('Using the Random Forest algorithm saves the bank: €{:.2f}.'.format(none-total_rf))\n",
    "print('Using the AdaBoost algorithm saves the bank: €{:.2f}.'.format(none-total_ab))"
   ]
  },
  {
   "cell_type": "markdown",
   "metadata": {},
   "source": [
    "The bank will save more money if I deploy the Random Forest algorithm!"
   ]
  }
 ],
 "metadata": {
  "kernelspec": {
   "display_name": "Python 3",
   "language": "python",
   "name": "python3"
  },
  "language_info": {
   "codemirror_mode": {
    "name": "ipython",
    "version": 3
   },
   "file_extension": ".py",
   "mimetype": "text/x-python",
   "name": "python",
   "nbconvert_exporter": "python",
   "pygments_lexer": "ipython3",
   "version": "3.8.3"
  }
 },
 "nbformat": 4,
 "nbformat_minor": 4
}
